{
 "cells": [
  {
   "cell_type": "markdown",
   "metadata": {},
   "source": [
    "# Quick start"
   ]
  },
  {
   "cell_type": "markdown",
   "metadata": {},
   "source": [
    "## Starting the server"
   ]
  },
  {
   "cell_type": "markdown",
   "metadata": {},
   "source": [
    "### Install `lavender-data`\n",
    "\n",
    "You can install lavender-data using pip.\n",
    "\n",
    "```sh\n",
    "pip install lavender-data\n",
    "```"
   ]
  },
  {
   "cell_type": "markdown",
   "metadata": {},
   "source": [
    "### Run the server\n",
    "\n",
    "You can run the lavender data server simply with following command:\n",
    "```sh\n",
    "lavender-data server run --port 8000 --host 0.0.0.0\n",
    "```\n",
    "\n",
    "The server will be running on http://0.0.0.0:8000.\n",
    "This is obviously a blocking call, so we'll spawn a subprocess instead and move on."
   ]
  },
  {
   "cell_type": "code",
   "execution_count": 29,
   "metadata": {},
   "outputs": [
    {
     "name": "stdout",
     "output_type": "stream",
     "text": [
      "[2025-04-05 14:02:44,700] INFO - lavender-data.server.ui: Installing UI dependencies\n",
      "[2025-04-05 14:02:45,577] INFO - lavender-data.server.ui:\n",
      "[2025-04-05 14:02:45,578] INFO - lavender-data.server.ui: up to date, audited 140 packages in 796ms\n",
      "[2025-04-05 14:02:45,578] INFO - lavender-data.server.ui:\n",
      "[2025-04-05 14:02:45,578] INFO - lavender-data.server.ui: 24 packages are looking for funding\n",
      "[2025-04-05 14:02:45,578] INFO - lavender-data.server.ui: run `npm fund` for details\n",
      "[2025-04-05 14:02:45,578] INFO - lavender-data.server.ui:\n",
      "[2025-04-05 14:02:45,581] INFO - lavender-data.server.ui: found 0 vulnerabilities\n",
      "[2025-04-05 14:02:45,581] INFO - lavender-data.server.ui:\n",
      "[2025-04-05 14:02:45,581] INFO - lavender-data.server.ui: Starting UI\n",
      "[2025-04-05 14:02:45,771] INFO - lavender-data.server.ui: ▲ Next.js 15.2.3\n",
      "[2025-04-05 14:02:45,849] INFO - lavender-data.server.ui: - Local:        http://localhost:3000\n",
      "[2025-04-05 14:02:45,850] INFO - lavender-data.server.ui: - Network:      http://0.0.0.0:3000\n",
      "[2025-04-05 14:02:45,850] INFO - lavender-data.server.ui:\n",
      "[2025-04-05 14:02:45,850] INFO - lavender-data.server.ui: ✓ Starting...\n",
      "[2025-04-05 14:02:45,850] INFO - lavender-data.server.ui: ✓ Ready in 92ms\n",
      "INFO:     Started server process [42215]\n",
      "INFO:     Waiting for application startup.\n",
      "[2025-04-05 14:02:45,886] INFO - lavender_data.server.services.registries: Imported modules/lavender_data_modules.py: {'preprocessor': 'append_new_column', 'filter': 'uid_mod', 'collater': 'pylist'}\n",
      "INFO:     Application startup complete.\n"
     ]
    }
   ],
   "source": [
    "import select\n",
    "import subprocess\n",
    "\n",
    "command = \"lavender-data server run --port 8000 --host 0.0.0.0\"\n",
    "\n",
    "server_process = subprocess.Popen(\n",
    "    command.split(),\n",
    "    stdout=subprocess.PIPE, \n",
    "    stderr=subprocess.PIPE,\n",
    ")\n",
    "\n",
    "server_ready = False\n",
    "while server_process.poll() is None and not server_ready:\n",
    "    read_fds, _, _ = select.select([server_process.stdout, server_process.stderr], [], [], 1)\n",
    "    for fd in read_fds:\n",
    "        line = fd.readline().decode().strip()\n",
    "        if \"Application startup complete.\" in line:\n",
    "            server_ready = True\n",
    "        print(line)"
   ]
  },
  {
   "cell_type": "markdown",
   "metadata": {},
   "source": [
    "## Using the client"
   ]
  },
  {
   "cell_type": "markdown",
   "metadata": {},
   "source": [
    "### Initialize the client\n",
    "\n",
    "Use `lavender_data.client.api.init` to initialize the client."
   ]
  },
  {
   "cell_type": "code",
   "execution_count": 4,
   "metadata": {},
   "outputs": [
    {
     "data": {
      "text/plain": [
       "<lavender_data.client.api.LavenderDataClient at 0x13ba87390>"
      ]
     },
     "execution_count": 4,
     "metadata": {},
     "output_type": "execute_result"
    }
   ],
   "source": [
    "from lavender_data.client import api as lavender\n",
    "\n",
    "lavender.init(api_url=\"http://localhost:8000\", api_key=\"la-...\")"
   ]
  },
  {
   "cell_type": "markdown",
   "metadata": {},
   "source": [
    "Let's check if we're connected by listing the datasets with `get_datasets`."
   ]
  },
  {
   "cell_type": "code",
   "execution_count": 5,
   "metadata": {},
   "outputs": [
    {
     "data": {
      "text/plain": [
       "[]"
      ]
     },
     "execution_count": 5,
     "metadata": {},
     "output_type": "execute_result"
    }
   ],
   "source": [
    "lavender.get_datasets()"
   ]
  },
  {
   "cell_type": "markdown",
   "metadata": {},
   "source": [
    "### Define the schema\n",
    "\n",
    "Make a new dataset with `create_dataset`. `uid_column_name` is the name of the column that will be used as the unique identifier for each sample."
   ]
  },
  {
   "cell_type": "code",
   "execution_count": 6,
   "metadata": {},
   "outputs": [
    {
     "data": {
      "text/plain": [
       "DatasetPublic(name='test-dataset', created_at=datetime.datetime(2025, 4, 5, 5, 1, 47), id='ds-m93qy1b56ewlrjyrb8jt', uid_column_name='uid', additional_properties={})"
      ]
     },
     "execution_count": 6,
     "metadata": {},
     "output_type": "execute_result"
    }
   ],
   "source": [
    "lavender.create_dataset(name=\"test-dataset\", uid_column_name=\"uid\")"
   ]
  },
  {
   "cell_type": "code",
   "execution_count": 7,
   "metadata": {},
   "outputs": [
    {
     "data": {
      "text/plain": [
       "GetDatasetResponse(name='test-dataset', created_at=datetime.datetime(2025, 4, 5, 5, 1, 47), columns=[], shardsets=[], id='ds-m93qy1b56ewlrjyrb8jt', uid_column_name='uid', additional_properties={})"
      ]
     },
     "execution_count": 7,
     "metadata": {},
     "output_type": "execute_result"
    }
   ],
   "source": [
    "dataset = lavender.get_dataset(name=\"test-dataset\")\n",
    "dataset"
   ]
  },
  {
   "cell_type": "markdown",
   "metadata": {},
   "source": [
    "Add a shardset to the dataset with `create_shardset`.\n",
    "Let's add 2 columns, `uid` and `text`."
   ]
  },
  {
   "cell_type": "code",
   "execution_count": 8,
   "metadata": {},
   "outputs": [
    {
     "data": {
      "text/plain": [
       "CreateShardsetResponse(dataset_id='ds-m93qy1b56ewlrjyrb8jt', location='file://.cache/lavender-data/test_shards', created_at=datetime.datetime(2025, 4, 5, 5, 1, 51), columns=[DatasetColumnPublic(dataset_id='ds-m93qy1b56ewlrjyrb8jt', shardset_id='ss-m93qy3xple8j11m6l7zq', name='uid', type_='int', created_at=datetime.datetime(2025, 4, 5, 5, 1, 51), id='dc-m93qy3xsi96uwvizleoh', description='Unique identifier', additional_properties={}), DatasetColumnPublic(dataset_id='ds-m93qy1b56ewlrjyrb8jt', shardset_id='ss-m93qy3xple8j11m6l7zq', name='text', type_='str', created_at=datetime.datetime(2025, 4, 5, 5, 1, 51), id='dc-m93qy3xsvfgxrqhkxyd1', description='A text field', additional_properties={})], id='ss-m93qy3xple8j11m6l7zq', shard_count=0, total_samples=0, additional_properties={})"
      ]
     },
     "execution_count": 8,
     "metadata": {},
     "output_type": "execute_result"
    }
   ],
   "source": [
    "shardset = lavender.create_shardset(\n",
    "    dataset_id=dataset.id,\n",
    "    location=\"file://.cache/lavender-data/test_shards\",\n",
    "    columns=[\n",
    "        lavender.DatasetColumnOptions(\n",
    "            name=\"uid\",\n",
    "            description=\"Unique identifier\",\n",
    "            type_=\"int\",\n",
    "        ),\n",
    "        lavender.DatasetColumnOptions(\n",
    "            name=\"text\",\n",
    "            description=\"A text field\",\n",
    "            type_=\"str\",\n",
    "        ),\n",
    "    ],\n",
    ")\n",
    "shardset"
   ]
  },
  {
   "cell_type": "markdown",
   "metadata": {},
   "source": [
    "Now the dataset has 2 columns, `uid` and `text`."
   ]
  },
  {
   "cell_type": "code",
   "execution_count": 9,
   "metadata": {},
   "outputs": [
    {
     "data": {
      "text/plain": [
       "['text (str): A text field', 'uid (int): Unique identifier']"
      ]
     },
     "execution_count": 9,
     "metadata": {},
     "output_type": "execute_result"
    }
   ],
   "source": [
    "[f\"{col.name} ({col.type_}): {col.description}\" for col in lavender.get_dataset(dataset.id).columns]"
   ]
  },
  {
   "cell_type": "markdown",
   "metadata": {},
   "source": [
    "### Add data\n",
    "\n",
    "Let's create example csv files to the shardset location."
   ]
  },
  {
   "cell_type": "code",
   "execution_count": 2,
   "metadata": {},
   "outputs": [],
   "source": [
    "import os\n",
    "import csv\n",
    "\n",
    "shard_count = 10\n",
    "samples_per_shard = 10\n",
    "\n",
    "test_dir = f\".cache/lavender-data/test_shards\"\n",
    "os.makedirs(test_dir, exist_ok=True)\n",
    "for i in range(shard_count):\n",
    "    with open(f\"{test_dir}/shard.{i:05d}.csv\", \"w\") as f:\n",
    "        writer = csv.writer(f)\n",
    "        writer.writerow([\"uid\", \"text\"])\n",
    "        for j in range(samples_per_shard):\n",
    "            writer.writerow(\n",
    "                [\n",
    "                    i * samples_per_shard + j,\n",
    "                    f\"Sample {i * samples_per_shard + j}\",\n",
    "                ]\n",
    "            )\n"
   ]
  },
  {
   "cell_type": "markdown",
   "metadata": {},
   "source": [
    "To reflect it on the server, call sync_shardset."
   ]
  },
  {
   "cell_type": "code",
   "execution_count": null,
   "metadata": {},
   "outputs": [],
   "source": [
    "lavender.sync_shardset(dataset.id, shardset.id)"
   ]
  },
  {
   "cell_type": "markdown",
   "metadata": {},
   "source": [
    "Now the shardset has 100 samples."
   ]
  },
  {
   "cell_type": "code",
   "execution_count": 12,
   "metadata": {},
   "outputs": [
    {
     "name": "stdout",
     "output_type": "stream",
     "text": [
      "Shard count: 10, Total samples: 100\n"
     ]
    }
   ],
   "source": [
    "shardset = lavender.get_dataset(dataset.id).shardsets[0]\n",
    "print(f\"Shard count: {shardset.shard_count}, Total samples: {shardset.total_samples}\")"
   ]
  },
  {
   "cell_type": "markdown",
   "metadata": {},
   "source": [
    "### Add a new column\n",
    "\n",
    "You might want to add a new feature to the dataset. In this case, you can add a new column to the dataset by adding a new shardset.\n",
    "\n",
    "Be aware that all the shardsets must have the `uid_column_name` column."
   ]
  },
  {
   "cell_type": "code",
   "execution_count": 13,
   "metadata": {},
   "outputs": [],
   "source": [
    "new_shardset = lavender.create_shardset(\n",
    "    dataset_id=dataset.id,\n",
    "    location=\"file://.cache/lavender-data/test_shards_new\",\n",
    "    columns=[\n",
    "        lavender.DatasetColumnOptions(\n",
    "            name=\"uid\",\n",
    "            description=\"Unique identifier\",\n",
    "            type_=\"int\",\n",
    "        ),\n",
    "        lavender.DatasetColumnOptions(\n",
    "            name=\"new_text\",\n",
    "            description=\"A new text field\",\n",
    "            type_=\"str\",\n",
    "        ),\n",
    "    ],\n",
    ")"
   ]
  },
  {
   "cell_type": "code",
   "execution_count": 14,
   "metadata": {},
   "outputs": [
    {
     "data": {
      "text/plain": [
       "['new_text (str): A new text field',\n",
       " 'text (str): A text field',\n",
       " 'uid (int): Unique identifier']"
      ]
     },
     "execution_count": 14,
     "metadata": {},
     "output_type": "execute_result"
    }
   ],
   "source": [
    "[f\"{col.name} ({col.type_}): {col.description}\" for col in lavender.get_dataset(dataset.id).columns]"
   ]
  },
  {
   "cell_type": "markdown",
   "metadata": {},
   "source": [
    "We'll add only 8 samples per shard this time, to demonstrate what happens when shardsets in the same dataset have different number of samples.\n",
    "\n",
    "\n",
    "> For each sample, the shard index of the sample MUST be the same across all the shardsets.\n",
    "> If not, it's hard to determine which shard the sample belongs to.\n",
    ">\n",
    "> For example, let's say you have 10 samples per shard in shardset A.\n",
    "> Then, the 11th sample in shardset A belongs to 2nd shard.\n",
    "> Let's say you derived a new shardset B from A, and had to drop 9th, 10th samples in A.\n",
    "> Even though you dropped 2 samples, the 11th sample in shardset B should still belongs to 2nd shard."
   ]
  },
  {
   "cell_type": "code",
   "execution_count": 15,
   "metadata": {},
   "outputs": [],
   "source": [
    "writer = Writer.get(\n",
    "    format=\"csv\",\n",
    "    dataset_id=dataset.id,\n",
    "    shardset_id=new_shardset.id,\n",
    "    persist_files=True,\n",
    ")\n",
    "\n",
    "shard_count = 10\n",
    "new_samples_per_shard = 8\n",
    "\n",
    "for shard_index in range(shard_count):\n",
    "    samples = [\n",
    "        {\n",
    "            \"new_text\": f\"Sample {i + shard_index * samples_per_shard}\",\n",
    "            \"uid\": i + shard_index * samples_per_shard,\n",
    "        } for i in range(new_samples_per_shard)\n",
    "    ]\n",
    "    writer.write(\n",
    "        samples=samples,\n",
    "        shard_index=shard_index,\n",
    "    )"
   ]
  },
  {
   "cell_type": "code",
   "execution_count": 16,
   "metadata": {},
   "outputs": [
    {
     "name": "stdout",
     "output_type": "stream",
     "text": [
      "Shard count: 10, Total samples: 80\n"
     ]
    }
   ],
   "source": [
    "new_shardset = lavender.get_dataset(dataset.id).shardsets[1]\n",
    "print(f\"Shard count: {new_shardset.shard_count}, Total samples: {new_shardset.total_samples}\")"
   ]
  },
  {
   "cell_type": "markdown",
   "metadata": {},
   "source": [
    "### Iterate over the dataset\n",
    "\n",
    "Use `Iteration` to iterate over the dataset. Specify the dataset id and shardsets you want to iterate over.\n",
    "\n",
    "Excluded shardsets will not be loaded. This can reduce huge amount of the overhead.\n",
    "\n",
    "Best practice would be selecting only the shardsets you need. For example, let's say you have an image dataset, and you preprocessed the images into embeddings. Store the embeddings in a new shardset, and do not select it on iteration if you don't need it."
   ]
  },
  {
   "cell_type": "code",
   "execution_count": 17,
   "metadata": {},
   "outputs": [
    {
     "data": {
      "text/plain": [
       "<lavender_data.client.iteration.Iteration at 0x12be512b0>"
      ]
     },
     "execution_count": 17,
     "metadata": {},
     "output_type": "execute_result"
    }
   ],
   "source": [
    "from lavender_data.client import Iteration\n",
    "\n",
    "iteration = Iteration.from_dataset(\n",
    "    dataset_id=dataset.id,\n",
    "    shardsets=[shardset.id],\n",
    ")\n",
    "iteration"
   ]
  },
  {
   "cell_type": "code",
   "execution_count": 18,
   "metadata": {},
   "outputs": [
    {
     "name": "stdout",
     "output_type": "stream",
     "text": [
      "{'text': 'Sample 0', 'uid': 0, '_lavender_data_indices': [0], '_lavender_data_current': 1}\n",
      "{'text': 'Sample 1', 'uid': 1, '_lavender_data_indices': [1], '_lavender_data_current': 2}\n",
      "{'text': 'Sample 2', 'uid': 2, '_lavender_data_indices': [2], '_lavender_data_current': 3}\n",
      "{'text': 'Sample 3', 'uid': 3, '_lavender_data_indices': [3], '_lavender_data_current': 4}\n",
      "{'text': 'Sample 4', 'uid': 4, '_lavender_data_indices': [4], '_lavender_data_current': 5}\n",
      "{'text': 'Sample 5', 'uid': 5, '_lavender_data_indices': [5], '_lavender_data_current': 6}\n",
      "{'text': 'Sample 6', 'uid': 6, '_lavender_data_indices': [6], '_lavender_data_current': 7}\n",
      "{'text': 'Sample 7', 'uid': 7, '_lavender_data_indices': [7], '_lavender_data_current': 8}\n",
      "{'text': 'Sample 8', 'uid': 8, '_lavender_data_indices': [8], '_lavender_data_current': 9}\n",
      "{'text': 'Sample 9', 'uid': 9, '_lavender_data_indices': [9], '_lavender_data_current': 10}\n",
      "{'text': 'Sample 10', 'uid': 10, '_lavender_data_indices': [10], '_lavender_data_current': 11}\n",
      "{'text': 'Sample 11', 'uid': 11, '_lavender_data_indices': [11], '_lavender_data_current': 12}\n",
      "{'text': 'Sample 12', 'uid': 12, '_lavender_data_indices': [12], '_lavender_data_current': 13}\n",
      "{'text': 'Sample 13', 'uid': 13, '_lavender_data_indices': [13], '_lavender_data_current': 14}\n",
      "{'text': 'Sample 14', 'uid': 14, '_lavender_data_indices': [14], '_lavender_data_current': 15}\n",
      "{'text': 'Sample 15', 'uid': 15, '_lavender_data_indices': [15], '_lavender_data_current': 16}\n",
      "{'text': 'Sample 16', 'uid': 16, '_lavender_data_indices': [16], '_lavender_data_current': 17}\n",
      "{'text': 'Sample 17', 'uid': 17, '_lavender_data_indices': [17], '_lavender_data_current': 18}\n",
      "{'text': 'Sample 18', 'uid': 18, '_lavender_data_indices': [18], '_lavender_data_current': 19}\n",
      "{'text': 'Sample 19', 'uid': 19, '_lavender_data_indices': [19], '_lavender_data_current': 20}\n",
      "{'text': 'Sample 20', 'uid': 20, '_lavender_data_indices': [20], '_lavender_data_current': 21}\n",
      "{'text': 'Sample 21', 'uid': 21, '_lavender_data_indices': [21], '_lavender_data_current': 22}\n",
      "{'text': 'Sample 22', 'uid': 22, '_lavender_data_indices': [22], '_lavender_data_current': 23}\n",
      "{'text': 'Sample 23', 'uid': 23, '_lavender_data_indices': [23], '_lavender_data_current': 24}\n",
      "{'text': 'Sample 24', 'uid': 24, '_lavender_data_indices': [24], '_lavender_data_current': 25}\n",
      "{'text': 'Sample 25', 'uid': 25, '_lavender_data_indices': [25], '_lavender_data_current': 26}\n",
      "{'text': 'Sample 26', 'uid': 26, '_lavender_data_indices': [26], '_lavender_data_current': 27}\n",
      "{'text': 'Sample 27', 'uid': 27, '_lavender_data_indices': [27], '_lavender_data_current': 28}\n",
      "{'text': 'Sample 28', 'uid': 28, '_lavender_data_indices': [28], '_lavender_data_current': 29}\n",
      "{'text': 'Sample 29', 'uid': 29, '_lavender_data_indices': [29], '_lavender_data_current': 30}\n",
      "{'text': 'Sample 30', 'uid': 30, '_lavender_data_indices': [30], '_lavender_data_current': 31}\n",
      "{'text': 'Sample 31', 'uid': 31, '_lavender_data_indices': [31], '_lavender_data_current': 32}\n",
      "{'text': 'Sample 32', 'uid': 32, '_lavender_data_indices': [32], '_lavender_data_current': 33}\n",
      "{'text': 'Sample 33', 'uid': 33, '_lavender_data_indices': [33], '_lavender_data_current': 34}\n",
      "{'text': 'Sample 34', 'uid': 34, '_lavender_data_indices': [34], '_lavender_data_current': 35}\n",
      "{'text': 'Sample 35', 'uid': 35, '_lavender_data_indices': [35], '_lavender_data_current': 36}\n",
      "{'text': 'Sample 36', 'uid': 36, '_lavender_data_indices': [36], '_lavender_data_current': 37}\n",
      "{'text': 'Sample 37', 'uid': 37, '_lavender_data_indices': [37], '_lavender_data_current': 38}\n",
      "{'text': 'Sample 38', 'uid': 38, '_lavender_data_indices': [38], '_lavender_data_current': 39}\n",
      "{'text': 'Sample 39', 'uid': 39, '_lavender_data_indices': [39], '_lavender_data_current': 40}\n",
      "{'text': 'Sample 40', 'uid': 40, '_lavender_data_indices': [40], '_lavender_data_current': 41}\n",
      "{'text': 'Sample 41', 'uid': 41, '_lavender_data_indices': [41], '_lavender_data_current': 42}\n",
      "{'text': 'Sample 42', 'uid': 42, '_lavender_data_indices': [42], '_lavender_data_current': 43}\n",
      "{'text': 'Sample 43', 'uid': 43, '_lavender_data_indices': [43], '_lavender_data_current': 44}\n",
      "{'text': 'Sample 44', 'uid': 44, '_lavender_data_indices': [44], '_lavender_data_current': 45}\n",
      "{'text': 'Sample 45', 'uid': 45, '_lavender_data_indices': [45], '_lavender_data_current': 46}\n",
      "{'text': 'Sample 46', 'uid': 46, '_lavender_data_indices': [46], '_lavender_data_current': 47}\n",
      "{'text': 'Sample 47', 'uid': 47, '_lavender_data_indices': [47], '_lavender_data_current': 48}\n",
      "{'text': 'Sample 48', 'uid': 48, '_lavender_data_indices': [48], '_lavender_data_current': 49}\n",
      "{'text': 'Sample 49', 'uid': 49, '_lavender_data_indices': [49], '_lavender_data_current': 50}\n",
      "{'text': 'Sample 50', 'uid': 50, '_lavender_data_indices': [50], '_lavender_data_current': 51}\n",
      "{'text': 'Sample 51', 'uid': 51, '_lavender_data_indices': [51], '_lavender_data_current': 52}\n",
      "{'text': 'Sample 52', 'uid': 52, '_lavender_data_indices': [52], '_lavender_data_current': 53}\n",
      "{'text': 'Sample 53', 'uid': 53, '_lavender_data_indices': [53], '_lavender_data_current': 54}\n",
      "{'text': 'Sample 54', 'uid': 54, '_lavender_data_indices': [54], '_lavender_data_current': 55}\n",
      "{'text': 'Sample 55', 'uid': 55, '_lavender_data_indices': [55], '_lavender_data_current': 56}\n",
      "{'text': 'Sample 56', 'uid': 56, '_lavender_data_indices': [56], '_lavender_data_current': 57}\n",
      "{'text': 'Sample 57', 'uid': 57, '_lavender_data_indices': [57], '_lavender_data_current': 58}\n",
      "{'text': 'Sample 58', 'uid': 58, '_lavender_data_indices': [58], '_lavender_data_current': 59}\n",
      "{'text': 'Sample 59', 'uid': 59, '_lavender_data_indices': [59], '_lavender_data_current': 60}\n",
      "{'text': 'Sample 60', 'uid': 60, '_lavender_data_indices': [60], '_lavender_data_current': 61}\n",
      "{'text': 'Sample 61', 'uid': 61, '_lavender_data_indices': [61], '_lavender_data_current': 62}\n",
      "{'text': 'Sample 62', 'uid': 62, '_lavender_data_indices': [62], '_lavender_data_current': 63}\n",
      "{'text': 'Sample 63', 'uid': 63, '_lavender_data_indices': [63], '_lavender_data_current': 64}\n",
      "{'text': 'Sample 64', 'uid': 64, '_lavender_data_indices': [64], '_lavender_data_current': 65}\n",
      "{'text': 'Sample 65', 'uid': 65, '_lavender_data_indices': [65], '_lavender_data_current': 66}\n",
      "{'text': 'Sample 66', 'uid': 66, '_lavender_data_indices': [66], '_lavender_data_current': 67}\n",
      "{'text': 'Sample 67', 'uid': 67, '_lavender_data_indices': [67], '_lavender_data_current': 68}\n",
      "{'text': 'Sample 68', 'uid': 68, '_lavender_data_indices': [68], '_lavender_data_current': 69}\n",
      "{'text': 'Sample 69', 'uid': 69, '_lavender_data_indices': [69], '_lavender_data_current': 70}\n",
      "{'text': 'Sample 70', 'uid': 70, '_lavender_data_indices': [70], '_lavender_data_current': 71}\n",
      "{'text': 'Sample 71', 'uid': 71, '_lavender_data_indices': [71], '_lavender_data_current': 72}\n",
      "{'text': 'Sample 72', 'uid': 72, '_lavender_data_indices': [72], '_lavender_data_current': 73}\n",
      "{'text': 'Sample 73', 'uid': 73, '_lavender_data_indices': [73], '_lavender_data_current': 74}\n",
      "{'text': 'Sample 74', 'uid': 74, '_lavender_data_indices': [74], '_lavender_data_current': 75}\n",
      "{'text': 'Sample 75', 'uid': 75, '_lavender_data_indices': [75], '_lavender_data_current': 76}\n",
      "{'text': 'Sample 76', 'uid': 76, '_lavender_data_indices': [76], '_lavender_data_current': 77}\n",
      "{'text': 'Sample 77', 'uid': 77, '_lavender_data_indices': [77], '_lavender_data_current': 78}\n",
      "{'text': 'Sample 78', 'uid': 78, '_lavender_data_indices': [78], '_lavender_data_current': 79}\n",
      "{'text': 'Sample 79', 'uid': 79, '_lavender_data_indices': [79], '_lavender_data_current': 80}\n",
      "{'text': 'Sample 80', 'uid': 80, '_lavender_data_indices': [80], '_lavender_data_current': 81}\n",
      "{'text': 'Sample 81', 'uid': 81, '_lavender_data_indices': [81], '_lavender_data_current': 82}\n",
      "{'text': 'Sample 82', 'uid': 82, '_lavender_data_indices': [82], '_lavender_data_current': 83}\n",
      "{'text': 'Sample 83', 'uid': 83, '_lavender_data_indices': [83], '_lavender_data_current': 84}\n",
      "{'text': 'Sample 84', 'uid': 84, '_lavender_data_indices': [84], '_lavender_data_current': 85}\n",
      "{'text': 'Sample 85', 'uid': 85, '_lavender_data_indices': [85], '_lavender_data_current': 86}\n",
      "{'text': 'Sample 86', 'uid': 86, '_lavender_data_indices': [86], '_lavender_data_current': 87}\n",
      "{'text': 'Sample 87', 'uid': 87, '_lavender_data_indices': [87], '_lavender_data_current': 88}\n",
      "{'text': 'Sample 88', 'uid': 88, '_lavender_data_indices': [88], '_lavender_data_current': 89}\n",
      "{'text': 'Sample 89', 'uid': 89, '_lavender_data_indices': [89], '_lavender_data_current': 90}\n",
      "{'text': 'Sample 90', 'uid': 90, '_lavender_data_indices': [90], '_lavender_data_current': 91}\n",
      "{'text': 'Sample 91', 'uid': 91, '_lavender_data_indices': [91], '_lavender_data_current': 92}\n",
      "{'text': 'Sample 92', 'uid': 92, '_lavender_data_indices': [92], '_lavender_data_current': 93}\n",
      "{'text': 'Sample 93', 'uid': 93, '_lavender_data_indices': [93], '_lavender_data_current': 94}\n",
      "{'text': 'Sample 94', 'uid': 94, '_lavender_data_indices': [94], '_lavender_data_current': 95}\n",
      "{'text': 'Sample 95', 'uid': 95, '_lavender_data_indices': [95], '_lavender_data_current': 96}\n",
      "{'text': 'Sample 96', 'uid': 96, '_lavender_data_indices': [96], '_lavender_data_current': 97}\n",
      "{'text': 'Sample 97', 'uid': 97, '_lavender_data_indices': [97], '_lavender_data_current': 98}\n",
      "{'text': 'Sample 98', 'uid': 98, '_lavender_data_indices': [98], '_lavender_data_current': 99}\n",
      "{'text': 'Sample 99', 'uid': 99, '_lavender_data_indices': [99], '_lavender_data_current': 100}\n"
     ]
    }
   ],
   "source": [
    "for sample in iteration:\n",
    "    print(sample)\n"
   ]
  },
  {
   "cell_type": "markdown",
   "metadata": {},
   "source": [
    "The samples will be shuffled if `shuffle` is set to `True`. You can fix the shuffled order by setting `shuffle_seed` to a fixed value.\n",
    "\n",
    "`shuffle_block_size` is the number of shards to shuffle at a time. Larger value means more disk usage but gives more randomness."
   ]
  },
  {
   "cell_type": "code",
   "execution_count": 19,
   "metadata": {},
   "outputs": [
    {
     "name": "stdout",
     "output_type": "stream",
     "text": [
      "{'text': 'Sample 27', 'uid': 27, '_lavender_data_indices': [27], '_lavender_data_current': 1}\n",
      "{'text': 'Sample 15', 'uid': 15, '_lavender_data_indices': [15], '_lavender_data_current': 2}\n",
      "{'text': 'Sample 23', 'uid': 23, '_lavender_data_indices': [23], '_lavender_data_current': 3}\n",
      "{'text': 'Sample 17', 'uid': 17, '_lavender_data_indices': [17], '_lavender_data_current': 4}\n",
      "{'text': 'Sample 8', 'uid': 8, '_lavender_data_indices': [8], '_lavender_data_current': 5}\n",
      "{'text': 'Sample 9', 'uid': 9, '_lavender_data_indices': [9], '_lavender_data_current': 6}\n",
      "{'text': 'Sample 28', 'uid': 28, '_lavender_data_indices': [28], '_lavender_data_current': 7}\n",
      "{'text': 'Sample 24', 'uid': 24, '_lavender_data_indices': [24], '_lavender_data_current': 8}\n",
      "{'text': 'Sample 12', 'uid': 12, '_lavender_data_indices': [12], '_lavender_data_current': 9}\n",
      "{'text': 'Sample 0', 'uid': 0, '_lavender_data_indices': [0], '_lavender_data_current': 10}\n",
      "{'text': 'Sample 4', 'uid': 4, '_lavender_data_indices': [4], '_lavender_data_current': 11}\n",
      "{'text': 'Sample 16', 'uid': 16, '_lavender_data_indices': [16], '_lavender_data_current': 12}\n",
      "{'text': 'Sample 5', 'uid': 5, '_lavender_data_indices': [5], '_lavender_data_current': 13}\n",
      "{'text': 'Sample 13', 'uid': 13, '_lavender_data_indices': [13], '_lavender_data_current': 14}\n",
      "{'text': 'Sample 11', 'uid': 11, '_lavender_data_indices': [11], '_lavender_data_current': 15}\n",
      "{'text': 'Sample 22', 'uid': 22, '_lavender_data_indices': [22], '_lavender_data_current': 16}\n",
      "{'text': 'Sample 1', 'uid': 1, '_lavender_data_indices': [1], '_lavender_data_current': 17}\n",
      "{'text': 'Sample 2', 'uid': 2, '_lavender_data_indices': [2], '_lavender_data_current': 18}\n",
      "{'text': 'Sample 25', 'uid': 25, '_lavender_data_indices': [25], '_lavender_data_current': 19}\n",
      "{'text': 'Sample 3', 'uid': 3, '_lavender_data_indices': [3], '_lavender_data_current': 20}\n",
      "{'text': 'Sample 21', 'uid': 21, '_lavender_data_indices': [21], '_lavender_data_current': 21}\n",
      "{'text': 'Sample 26', 'uid': 26, '_lavender_data_indices': [26], '_lavender_data_current': 22}\n",
      "{'text': 'Sample 18', 'uid': 18, '_lavender_data_indices': [18], '_lavender_data_current': 23}\n",
      "{'text': 'Sample 29', 'uid': 29, '_lavender_data_indices': [29], '_lavender_data_current': 24}\n",
      "{'text': 'Sample 20', 'uid': 20, '_lavender_data_indices': [20], '_lavender_data_current': 25}\n",
      "{'text': 'Sample 7', 'uid': 7, '_lavender_data_indices': [7], '_lavender_data_current': 26}\n",
      "{'text': 'Sample 10', 'uid': 10, '_lavender_data_indices': [10], '_lavender_data_current': 27}\n",
      "{'text': 'Sample 14', 'uid': 14, '_lavender_data_indices': [14], '_lavender_data_current': 28}\n",
      "{'text': 'Sample 19', 'uid': 19, '_lavender_data_indices': [19], '_lavender_data_current': 29}\n",
      "{'text': 'Sample 6', 'uid': 6, '_lavender_data_indices': [6], '_lavender_data_current': 30}\n",
      "{'text': 'Sample 57', 'uid': 57, '_lavender_data_indices': [57], '_lavender_data_current': 31}\n",
      "{'text': 'Sample 45', 'uid': 45, '_lavender_data_indices': [45], '_lavender_data_current': 32}\n",
      "{'text': 'Sample 53', 'uid': 53, '_lavender_data_indices': [53], '_lavender_data_current': 33}\n",
      "{'text': 'Sample 47', 'uid': 47, '_lavender_data_indices': [47], '_lavender_data_current': 34}\n",
      "{'text': 'Sample 38', 'uid': 38, '_lavender_data_indices': [38], '_lavender_data_current': 35}\n",
      "{'text': 'Sample 39', 'uid': 39, '_lavender_data_indices': [39], '_lavender_data_current': 36}\n",
      "{'text': 'Sample 58', 'uid': 58, '_lavender_data_indices': [58], '_lavender_data_current': 37}\n",
      "{'text': 'Sample 54', 'uid': 54, '_lavender_data_indices': [54], '_lavender_data_current': 38}\n",
      "{'text': 'Sample 42', 'uid': 42, '_lavender_data_indices': [42], '_lavender_data_current': 39}\n",
      "{'text': 'Sample 30', 'uid': 30, '_lavender_data_indices': [30], '_lavender_data_current': 40}\n",
      "{'text': 'Sample 34', 'uid': 34, '_lavender_data_indices': [34], '_lavender_data_current': 41}\n",
      "{'text': 'Sample 46', 'uid': 46, '_lavender_data_indices': [46], '_lavender_data_current': 42}\n",
      "{'text': 'Sample 35', 'uid': 35, '_lavender_data_indices': [35], '_lavender_data_current': 43}\n",
      "{'text': 'Sample 43', 'uid': 43, '_lavender_data_indices': [43], '_lavender_data_current': 44}\n",
      "{'text': 'Sample 41', 'uid': 41, '_lavender_data_indices': [41], '_lavender_data_current': 45}\n",
      "{'text': 'Sample 52', 'uid': 52, '_lavender_data_indices': [52], '_lavender_data_current': 46}\n",
      "{'text': 'Sample 31', 'uid': 31, '_lavender_data_indices': [31], '_lavender_data_current': 47}\n",
      "{'text': 'Sample 32', 'uid': 32, '_lavender_data_indices': [32], '_lavender_data_current': 48}\n",
      "{'text': 'Sample 55', 'uid': 55, '_lavender_data_indices': [55], '_lavender_data_current': 49}\n",
      "{'text': 'Sample 33', 'uid': 33, '_lavender_data_indices': [33], '_lavender_data_current': 50}\n",
      "{'text': 'Sample 51', 'uid': 51, '_lavender_data_indices': [51], '_lavender_data_current': 51}\n",
      "{'text': 'Sample 56', 'uid': 56, '_lavender_data_indices': [56], '_lavender_data_current': 52}\n",
      "{'text': 'Sample 48', 'uid': 48, '_lavender_data_indices': [48], '_lavender_data_current': 53}\n",
      "{'text': 'Sample 59', 'uid': 59, '_lavender_data_indices': [59], '_lavender_data_current': 54}\n",
      "{'text': 'Sample 50', 'uid': 50, '_lavender_data_indices': [50], '_lavender_data_current': 55}\n",
      "{'text': 'Sample 37', 'uid': 37, '_lavender_data_indices': [37], '_lavender_data_current': 56}\n",
      "{'text': 'Sample 40', 'uid': 40, '_lavender_data_indices': [40], '_lavender_data_current': 57}\n",
      "{'text': 'Sample 44', 'uid': 44, '_lavender_data_indices': [44], '_lavender_data_current': 58}\n",
      "{'text': 'Sample 49', 'uid': 49, '_lavender_data_indices': [49], '_lavender_data_current': 59}\n",
      "{'text': 'Sample 36', 'uid': 36, '_lavender_data_indices': [36], '_lavender_data_current': 60}\n",
      "{'text': 'Sample 87', 'uid': 87, '_lavender_data_indices': [87], '_lavender_data_current': 61}\n",
      "{'text': 'Sample 75', 'uid': 75, '_lavender_data_indices': [75], '_lavender_data_current': 62}\n",
      "{'text': 'Sample 83', 'uid': 83, '_lavender_data_indices': [83], '_lavender_data_current': 63}\n",
      "{'text': 'Sample 77', 'uid': 77, '_lavender_data_indices': [77], '_lavender_data_current': 64}\n",
      "{'text': 'Sample 68', 'uid': 68, '_lavender_data_indices': [68], '_lavender_data_current': 65}\n",
      "{'text': 'Sample 69', 'uid': 69, '_lavender_data_indices': [69], '_lavender_data_current': 66}\n",
      "{'text': 'Sample 88', 'uid': 88, '_lavender_data_indices': [88], '_lavender_data_current': 67}\n",
      "{'text': 'Sample 84', 'uid': 84, '_lavender_data_indices': [84], '_lavender_data_current': 68}\n",
      "{'text': 'Sample 72', 'uid': 72, '_lavender_data_indices': [72], '_lavender_data_current': 69}\n",
      "{'text': 'Sample 60', 'uid': 60, '_lavender_data_indices': [60], '_lavender_data_current': 70}\n",
      "{'text': 'Sample 64', 'uid': 64, '_lavender_data_indices': [64], '_lavender_data_current': 71}\n",
      "{'text': 'Sample 76', 'uid': 76, '_lavender_data_indices': [76], '_lavender_data_current': 72}\n",
      "{'text': 'Sample 65', 'uid': 65, '_lavender_data_indices': [65], '_lavender_data_current': 73}\n",
      "{'text': 'Sample 73', 'uid': 73, '_lavender_data_indices': [73], '_lavender_data_current': 74}\n",
      "{'text': 'Sample 71', 'uid': 71, '_lavender_data_indices': [71], '_lavender_data_current': 75}\n",
      "{'text': 'Sample 82', 'uid': 82, '_lavender_data_indices': [82], '_lavender_data_current': 76}\n",
      "{'text': 'Sample 61', 'uid': 61, '_lavender_data_indices': [61], '_lavender_data_current': 77}\n",
      "{'text': 'Sample 62', 'uid': 62, '_lavender_data_indices': [62], '_lavender_data_current': 78}\n",
      "{'text': 'Sample 85', 'uid': 85, '_lavender_data_indices': [85], '_lavender_data_current': 79}\n",
      "{'text': 'Sample 63', 'uid': 63, '_lavender_data_indices': [63], '_lavender_data_current': 80}\n",
      "{'text': 'Sample 81', 'uid': 81, '_lavender_data_indices': [81], '_lavender_data_current': 81}\n",
      "{'text': 'Sample 86', 'uid': 86, '_lavender_data_indices': [86], '_lavender_data_current': 82}\n",
      "{'text': 'Sample 78', 'uid': 78, '_lavender_data_indices': [78], '_lavender_data_current': 83}\n",
      "{'text': 'Sample 89', 'uid': 89, '_lavender_data_indices': [89], '_lavender_data_current': 84}\n",
      "{'text': 'Sample 80', 'uid': 80, '_lavender_data_indices': [80], '_lavender_data_current': 85}\n",
      "{'text': 'Sample 67', 'uid': 67, '_lavender_data_indices': [67], '_lavender_data_current': 86}\n",
      "{'text': 'Sample 70', 'uid': 70, '_lavender_data_indices': [70], '_lavender_data_current': 87}\n",
      "{'text': 'Sample 74', 'uid': 74, '_lavender_data_indices': [74], '_lavender_data_current': 88}\n",
      "{'text': 'Sample 79', 'uid': 79, '_lavender_data_indices': [79], '_lavender_data_current': 89}\n",
      "{'text': 'Sample 66', 'uid': 66, '_lavender_data_indices': [66], '_lavender_data_current': 90}\n",
      "{'text': 'Sample 98', 'uid': 98, '_lavender_data_indices': [98], '_lavender_data_current': 91}\n",
      "{'text': 'Sample 91', 'uid': 91, '_lavender_data_indices': [91], '_lavender_data_current': 92}\n",
      "{'text': 'Sample 95', 'uid': 95, '_lavender_data_indices': [95], '_lavender_data_current': 93}\n",
      "{'text': 'Sample 90', 'uid': 90, '_lavender_data_indices': [90], '_lavender_data_current': 94}\n",
      "{'text': 'Sample 97', 'uid': 97, '_lavender_data_indices': [97], '_lavender_data_current': 95}\n",
      "{'text': 'Sample 92', 'uid': 92, '_lavender_data_indices': [92], '_lavender_data_current': 96}\n",
      "{'text': 'Sample 99', 'uid': 99, '_lavender_data_indices': [99], '_lavender_data_current': 97}\n",
      "{'text': 'Sample 94', 'uid': 94, '_lavender_data_indices': [94], '_lavender_data_current': 98}\n",
      "{'text': 'Sample 93', 'uid': 93, '_lavender_data_indices': [93], '_lavender_data_current': 99}\n",
      "{'text': 'Sample 96', 'uid': 96, '_lavender_data_indices': [96], '_lavender_data_current': 100}\n"
     ]
    }
   ],
   "source": [
    "for sample in Iteration.from_dataset(\n",
    "    dataset_id=dataset.id,\n",
    "    shardsets=[shardset.id],\n",
    "    shuffle=True,\n",
    "    shuffle_seed=42,\n",
    "    shuffle_block_size=3,\n",
    "):\n",
    "    print(sample)"
   ]
  },
  {
   "cell_type": "markdown",
   "metadata": {},
   "source": [
    "The samples will be batched if `batch_size` is set."
   ]
  },
  {
   "cell_type": "code",
   "execution_count": 20,
   "metadata": {},
   "outputs": [
    {
     "name": "stdout",
     "output_type": "stream",
     "text": [
      "{'text': ['Sample 0', 'Sample 1', 'Sample 2', 'Sample 3', 'Sample 4', 'Sample 5', 'Sample 6', 'Sample 7', 'Sample 8', 'Sample 9'], 'uid': [0, 1, 2, 3, 4, 5, 6, 7, 8, 9], '_lavender_data_indices': [0, 1, 2, 3, 4, 5, 6, 7, 8, 9], '_lavender_data_current': 10}\n",
      "{'text': ['Sample 10', 'Sample 11', 'Sample 12', 'Sample 13', 'Sample 14', 'Sample 15', 'Sample 16', 'Sample 17', 'Sample 18', 'Sample 19'], 'uid': [10, 11, 12, 13, 14, 15, 16, 17, 18, 19], '_lavender_data_indices': [10, 11, 12, 13, 14, 15, 16, 17, 18, 19], '_lavender_data_current': 20}\n",
      "{'text': ['Sample 20', 'Sample 21', 'Sample 22', 'Sample 23', 'Sample 24', 'Sample 25', 'Sample 26', 'Sample 27', 'Sample 28', 'Sample 29'], 'uid': [20, 21, 22, 23, 24, 25, 26, 27, 28, 29], '_lavender_data_indices': [20, 21, 22, 23, 24, 25, 26, 27, 28, 29], '_lavender_data_current': 30}\n",
      "{'text': ['Sample 30', 'Sample 31', 'Sample 32', 'Sample 33', 'Sample 34', 'Sample 35', 'Sample 36', 'Sample 37', 'Sample 38', 'Sample 39'], 'uid': [30, 31, 32, 33, 34, 35, 36, 37, 38, 39], '_lavender_data_indices': [30, 31, 32, 33, 34, 35, 36, 37, 38, 39], '_lavender_data_current': 40}\n",
      "{'text': ['Sample 40', 'Sample 41', 'Sample 42', 'Sample 43', 'Sample 44', 'Sample 45', 'Sample 46', 'Sample 47', 'Sample 48', 'Sample 49'], 'uid': [40, 41, 42, 43, 44, 45, 46, 47, 48, 49], '_lavender_data_indices': [40, 41, 42, 43, 44, 45, 46, 47, 48, 49], '_lavender_data_current': 50}\n",
      "{'text': ['Sample 50', 'Sample 51', 'Sample 52', 'Sample 53', 'Sample 54', 'Sample 55', 'Sample 56', 'Sample 57', 'Sample 58', 'Sample 59'], 'uid': [50, 51, 52, 53, 54, 55, 56, 57, 58, 59], '_lavender_data_indices': [50, 51, 52, 53, 54, 55, 56, 57, 58, 59], '_lavender_data_current': 60}\n",
      "{'text': ['Sample 60', 'Sample 61', 'Sample 62', 'Sample 63', 'Sample 64', 'Sample 65', 'Sample 66', 'Sample 67', 'Sample 68', 'Sample 69'], 'uid': [60, 61, 62, 63, 64, 65, 66, 67, 68, 69], '_lavender_data_indices': [60, 61, 62, 63, 64, 65, 66, 67, 68, 69], '_lavender_data_current': 70}\n",
      "{'text': ['Sample 70', 'Sample 71', 'Sample 72', 'Sample 73', 'Sample 74', 'Sample 75', 'Sample 76', 'Sample 77', 'Sample 78', 'Sample 79'], 'uid': [70, 71, 72, 73, 74, 75, 76, 77, 78, 79], '_lavender_data_indices': [70, 71, 72, 73, 74, 75, 76, 77, 78, 79], '_lavender_data_current': 80}\n",
      "{'text': ['Sample 80', 'Sample 81', 'Sample 82', 'Sample 83', 'Sample 84', 'Sample 85', 'Sample 86', 'Sample 87', 'Sample 88', 'Sample 89'], 'uid': [80, 81, 82, 83, 84, 85, 86, 87, 88, 89], '_lavender_data_indices': [80, 81, 82, 83, 84, 85, 86, 87, 88, 89], '_lavender_data_current': 90}\n",
      "{'text': ['Sample 90', 'Sample 91', 'Sample 92', 'Sample 93', 'Sample 94', 'Sample 95', 'Sample 96', 'Sample 97', 'Sample 98', 'Sample 99'], 'uid': [90, 91, 92, 93, 94, 95, 96, 97, 98, 99], '_lavender_data_indices': [90, 91, 92, 93, 94, 95, 96, 97, 98, 99], '_lavender_data_current': 100}\n"
     ]
    }
   ],
   "source": [
    "for sample in Iteration.from_dataset(\n",
    "    dataset_id=dataset.id,\n",
    "    shardsets=[shardset.id],\n",
    "    batch_size=10,\n",
    "):\n",
    "    print(sample)"
   ]
  },
  {
   "cell_type": "markdown",
   "metadata": {},
   "source": [
    "### What happens if shardsets have different number of samples?\n",
    "\n",
    "If shardsets have different number of samples, only the samples with all the columns will be loaded.\n"
   ]
  },
  {
   "cell_type": "code",
   "execution_count": 21,
   "metadata": {},
   "outputs": [
    {
     "name": "stdout",
     "output_type": "stream",
     "text": [
      "{'new_text': ['Sample 0', 'Sample 1', 'Sample 2', 'Sample 3', 'Sample 4', 'Sample 5', 'Sample 6', 'Sample 7', 'Sample 10', 'Sample 11'], 'uid': [0, 1, 2, 3, 4, 5, 6, 7, 10, 11], 'text': ['Sample 0', 'Sample 1', 'Sample 2', 'Sample 3', 'Sample 4', 'Sample 5', 'Sample 6', 'Sample 7', 'Sample 10', 'Sample 11'], '_lavender_data_indices': [0, 1, 2, 3, 4, 5, 6, 7, 8, 9], '_lavender_data_current': 10}\n",
      "{'new_text': ['Sample 12', 'Sample 13', 'Sample 14', 'Sample 15', 'Sample 16', 'Sample 17', 'Sample 20', 'Sample 21', 'Sample 22', 'Sample 23'], 'uid': [12, 13, 14, 15, 16, 17, 20, 21, 22, 23], 'text': ['Sample 12', 'Sample 13', 'Sample 14', 'Sample 15', 'Sample 16', 'Sample 17', 'Sample 20', 'Sample 21', 'Sample 22', 'Sample 23'], '_lavender_data_indices': [10, 11, 12, 13, 14, 15, 16, 17, 18, 19], '_lavender_data_current': 20}\n",
      "{'new_text': ['Sample 24', 'Sample 25', 'Sample 26', 'Sample 27', 'Sample 30', 'Sample 31', 'Sample 32', 'Sample 33', 'Sample 34', 'Sample 35'], 'uid': [24, 25, 26, 27, 30, 31, 32, 33, 34, 35], 'text': ['Sample 24', 'Sample 25', 'Sample 26', 'Sample 27', 'Sample 30', 'Sample 31', 'Sample 32', 'Sample 33', 'Sample 34', 'Sample 35'], '_lavender_data_indices': [20, 21, 22, 23, 24, 25, 26, 27, 28, 29], '_lavender_data_current': 30}\n",
      "{'new_text': ['Sample 36', 'Sample 37', 'Sample 40', 'Sample 41', 'Sample 42', 'Sample 43', 'Sample 44', 'Sample 45', 'Sample 46', 'Sample 47'], 'uid': [36, 37, 40, 41, 42, 43, 44, 45, 46, 47], 'text': ['Sample 36', 'Sample 37', 'Sample 40', 'Sample 41', 'Sample 42', 'Sample 43', 'Sample 44', 'Sample 45', 'Sample 46', 'Sample 47'], '_lavender_data_indices': [30, 31, 32, 33, 34, 35, 36, 37, 38, 39], '_lavender_data_current': 40}\n",
      "{'new_text': ['Sample 50', 'Sample 51', 'Sample 52', 'Sample 53', 'Sample 54', 'Sample 55', 'Sample 56', 'Sample 57', 'Sample 60', 'Sample 61'], 'uid': [50, 51, 52, 53, 54, 55, 56, 57, 60, 61], 'text': ['Sample 50', 'Sample 51', 'Sample 52', 'Sample 53', 'Sample 54', 'Sample 55', 'Sample 56', 'Sample 57', 'Sample 60', 'Sample 61'], '_lavender_data_indices': [40, 41, 42, 43, 44, 45, 46, 47, 48, 49], '_lavender_data_current': 50}\n",
      "{'new_text': ['Sample 62', 'Sample 63', 'Sample 64', 'Sample 65', 'Sample 66', 'Sample 67', 'Sample 70', 'Sample 71', 'Sample 72', 'Sample 73'], 'uid': [62, 63, 64, 65, 66, 67, 70, 71, 72, 73], 'text': ['Sample 62', 'Sample 63', 'Sample 64', 'Sample 65', 'Sample 66', 'Sample 67', 'Sample 70', 'Sample 71', 'Sample 72', 'Sample 73'], '_lavender_data_indices': [50, 51, 52, 53, 54, 55, 56, 57, 58, 59], '_lavender_data_current': 60}\n",
      "{'new_text': ['Sample 74', 'Sample 75', 'Sample 76', 'Sample 77', 'Sample 80', 'Sample 81', 'Sample 82', 'Sample 83', 'Sample 84', 'Sample 85'], 'uid': [74, 75, 76, 77, 80, 81, 82, 83, 84, 85], 'text': ['Sample 74', 'Sample 75', 'Sample 76', 'Sample 77', 'Sample 80', 'Sample 81', 'Sample 82', 'Sample 83', 'Sample 84', 'Sample 85'], '_lavender_data_indices': [60, 61, 62, 63, 64, 65, 66, 67, 68, 69], '_lavender_data_current': 70}\n",
      "{'new_text': ['Sample 86', 'Sample 87', 'Sample 90', 'Sample 91', 'Sample 92', 'Sample 93', 'Sample 94', 'Sample 95', 'Sample 96', 'Sample 97'], 'uid': [86, 87, 90, 91, 92, 93, 94, 95, 96, 97], 'text': ['Sample 86', 'Sample 87', 'Sample 90', 'Sample 91', 'Sample 92', 'Sample 93', 'Sample 94', 'Sample 95', 'Sample 96', 'Sample 97'], '_lavender_data_indices': [70, 71, 72, 73, 74, 75, 76, 77, 78, 79], '_lavender_data_current': 80}\n"
     ]
    }
   ],
   "source": [
    "for sample in Iteration.from_dataset(\n",
    "    dataset_id=dataset.id,\n",
    "    shardsets=[shardset.id, new_shardset.id],\n",
    "    batch_size=10,\n",
    "):\n",
    "    print(sample)"
   ]
  },
  {
   "cell_type": "markdown",
   "metadata": {},
   "source": [
    "## Custom modules"
   ]
  },
  {
   "cell_type": "markdown",
   "metadata": {},
   "source": [
    "### Define module directory\n",
    "\n",
    "Specify the directory containing the module files with `LAVENDER_DATA_MODULE_DIR` environment variable. Use `.env` file or set the environment variable with `export`.\n",
    "\n",
    "```sh\n",
    "export LAVENDER_DATA_MODULE_DIR=/path/to/module/dir\n",
    "```\n",
    "\n",
    "We already have a module directory `modules` in the example directory.\n",
    "\n",
    "```sh\n",
    "export LAVENDER_DATA_MODULE_DIR=./modules\n",
    "```\n",
    "\n",
    "This example module contains a custom filter, collater, and preprocessor. Let's take a look at one by one.\n"
   ]
  },
  {
   "cell_type": "markdown",
   "metadata": {},
   "source": [
    "### Online Filters\n",
    "\n",
    "To online-filter the dataset, define a filter class that inherits from `Filter`. It takes a single sample as an argument and returns a boolean value. If it returns `True`, the sample will be included in the dataset. For example, below is a filter that only includes samples with even `uid`."
   ]
  },
  {
   "cell_type": "code",
   "execution_count": 22,
   "metadata": {},
   "outputs": [],
   "source": [
    "from lavender_data.server import Filter\n",
    "\n",
    "class UidModFilter(Filter, name=\"uid_mod\"):\n",
    "    def filter(self, sample: dict, *, mod: int = 2) -> bool:\n",
    "        return sample[\"uid\"] % mod == 0"
   ]
  },
  {
   "cell_type": "markdown",
   "metadata": {},
   "source": [
    "On iteration, specify the filter name to use it."
   ]
  },
  {
   "cell_type": "code",
   "execution_count": 23,
   "metadata": {},
   "outputs": [
    {
     "name": "stdout",
     "output_type": "stream",
     "text": [
      "{'text': ['Sample 0', 'Sample 2', 'Sample 4', 'Sample 6', 'Sample 8', 'Sample 10', 'Sample 12', 'Sample 14', 'Sample 16', 'Sample 18'], 'uid': [0, 2, 4, 6, 8, 10, 12, 14, 16, 18], '_lavender_data_indices': [0, 2, 4, 6, 8, 10, 12, 14, 16, 18], '_lavender_data_current': 19}\n",
      "{'text': ['Sample 20', 'Sample 22', 'Sample 24', 'Sample 26', 'Sample 28', 'Sample 30', 'Sample 32', 'Sample 34', 'Sample 36', 'Sample 38'], 'uid': [20, 22, 24, 26, 28, 30, 32, 34, 36, 38], '_lavender_data_indices': [20, 22, 24, 26, 28, 30, 32, 34, 36, 38], '_lavender_data_current': 39}\n",
      "{'text': ['Sample 40', 'Sample 42', 'Sample 44', 'Sample 46', 'Sample 48', 'Sample 50', 'Sample 52', 'Sample 54', 'Sample 56', 'Sample 58'], 'uid': [40, 42, 44, 46, 48, 50, 52, 54, 56, 58], '_lavender_data_indices': [40, 42, 44, 46, 48, 50, 52, 54, 56, 58], '_lavender_data_current': 59}\n",
      "{'text': ['Sample 60', 'Sample 62', 'Sample 64', 'Sample 66', 'Sample 68', 'Sample 70', 'Sample 72', 'Sample 74', 'Sample 76', 'Sample 78'], 'uid': [60, 62, 64, 66, 68, 70, 72, 74, 76, 78], '_lavender_data_indices': [60, 62, 64, 66, 68, 70, 72, 74, 76, 78], '_lavender_data_current': 79}\n",
      "{'text': ['Sample 80', 'Sample 82', 'Sample 84', 'Sample 86', 'Sample 88', 'Sample 90', 'Sample 92', 'Sample 94', 'Sample 96', 'Sample 98'], 'uid': [80, 82, 84, 86, 88, 90, 92, 94, 96, 98], '_lavender_data_indices': [80, 82, 84, 86, 88, 90, 92, 94, 96, 98], '_lavender_data_current': 99}\n"
     ]
    }
   ],
   "source": [
    "for sample in Iteration.from_dataset(\n",
    "    dataset_id=dataset.id,\n",
    "    shardsets=[shardset.id],\n",
    "    filters=[(\"uid_mod\", {\"mod\": 2})],\n",
    "    batch_size=10,\n",
    "):\n",
    "    print(sample)"
   ]
  },
  {
   "cell_type": "markdown",
   "metadata": {},
   "source": [
    "### Collater\n",
    "\n",
    "To collate the samples, define a collater class that inherits from `Collater`. It takes a list of samples as an argument and returns a dictionary of batched samples.\n",
    "\n",
    "If `torch` is installed, default collater will be `torch.utils.data.default_collate`. If not, it will be a simple function that concatenates the samples to a list, like below."
   ]
  },
  {
   "cell_type": "code",
   "execution_count": 24,
   "metadata": {},
   "outputs": [],
   "source": [
    "from lavender_data.server import Collater\n",
    "\n",
    "class PyListCollater(Collater, name=\"pylist\"):\n",
    "    def collate(self, samples: list[dict]) -> dict:\n",
    "        return {\n",
    "            \"uid\": [sample[\"uid\"] for sample in samples],\n",
    "            \"text\": [sample[\"text\"] for sample in samples],\n",
    "        }"
   ]
  },
  {
   "cell_type": "code",
   "execution_count": 25,
   "metadata": {},
   "outputs": [
    {
     "name": "stdout",
     "output_type": "stream",
     "text": [
      "{'uid': [0, 1, 2, 3, 4, 5, 6, 7, 8, 9], 'text': ['Sample 0', 'Sample 1', 'Sample 2', 'Sample 3', 'Sample 4', 'Sample 5', 'Sample 6', 'Sample 7', 'Sample 8', 'Sample 9'], '_lavender_data_indices': [0, 1, 2, 3, 4, 5, 6, 7, 8, 9], '_lavender_data_current': 10}\n",
      "{'uid': [10, 11, 12, 13, 14, 15, 16, 17, 18, 19], 'text': ['Sample 10', 'Sample 11', 'Sample 12', 'Sample 13', 'Sample 14', 'Sample 15', 'Sample 16', 'Sample 17', 'Sample 18', 'Sample 19'], '_lavender_data_indices': [10, 11, 12, 13, 14, 15, 16, 17, 18, 19], '_lavender_data_current': 20}\n",
      "{'uid': [20, 21, 22, 23, 24, 25, 26, 27, 28, 29], 'text': ['Sample 20', 'Sample 21', 'Sample 22', 'Sample 23', 'Sample 24', 'Sample 25', 'Sample 26', 'Sample 27', 'Sample 28', 'Sample 29'], '_lavender_data_indices': [20, 21, 22, 23, 24, 25, 26, 27, 28, 29], '_lavender_data_current': 30}\n",
      "{'uid': [30, 31, 32, 33, 34, 35, 36, 37, 38, 39], 'text': ['Sample 30', 'Sample 31', 'Sample 32', 'Sample 33', 'Sample 34', 'Sample 35', 'Sample 36', 'Sample 37', 'Sample 38', 'Sample 39'], '_lavender_data_indices': [30, 31, 32, 33, 34, 35, 36, 37, 38, 39], '_lavender_data_current': 40}\n",
      "{'uid': [40, 41, 42, 43, 44, 45, 46, 47, 48, 49], 'text': ['Sample 40', 'Sample 41', 'Sample 42', 'Sample 43', 'Sample 44', 'Sample 45', 'Sample 46', 'Sample 47', 'Sample 48', 'Sample 49'], '_lavender_data_indices': [40, 41, 42, 43, 44, 45, 46, 47, 48, 49], '_lavender_data_current': 50}\n",
      "{'uid': [50, 51, 52, 53, 54, 55, 56, 57, 58, 59], 'text': ['Sample 50', 'Sample 51', 'Sample 52', 'Sample 53', 'Sample 54', 'Sample 55', 'Sample 56', 'Sample 57', 'Sample 58', 'Sample 59'], '_lavender_data_indices': [50, 51, 52, 53, 54, 55, 56, 57, 58, 59], '_lavender_data_current': 60}\n",
      "{'uid': [60, 61, 62, 63, 64, 65, 66, 67, 68, 69], 'text': ['Sample 60', 'Sample 61', 'Sample 62', 'Sample 63', 'Sample 64', 'Sample 65', 'Sample 66', 'Sample 67', 'Sample 68', 'Sample 69'], '_lavender_data_indices': [60, 61, 62, 63, 64, 65, 66, 67, 68, 69], '_lavender_data_current': 70}\n",
      "{'uid': [70, 71, 72, 73, 74, 75, 76, 77, 78, 79], 'text': ['Sample 70', 'Sample 71', 'Sample 72', 'Sample 73', 'Sample 74', 'Sample 75', 'Sample 76', 'Sample 77', 'Sample 78', 'Sample 79'], '_lavender_data_indices': [70, 71, 72, 73, 74, 75, 76, 77, 78, 79], '_lavender_data_current': 80}\n",
      "{'uid': [80, 81, 82, 83, 84, 85, 86, 87, 88, 89], 'text': ['Sample 80', 'Sample 81', 'Sample 82', 'Sample 83', 'Sample 84', 'Sample 85', 'Sample 86', 'Sample 87', 'Sample 88', 'Sample 89'], '_lavender_data_indices': [80, 81, 82, 83, 84, 85, 86, 87, 88, 89], '_lavender_data_current': 90}\n",
      "{'uid': [90, 91, 92, 93, 94, 95, 96, 97, 98, 99], 'text': ['Sample 90', 'Sample 91', 'Sample 92', 'Sample 93', 'Sample 94', 'Sample 95', 'Sample 96', 'Sample 97', 'Sample 98', 'Sample 99'], '_lavender_data_indices': [90, 91, 92, 93, 94, 95, 96, 97, 98, 99], '_lavender_data_current': 100}\n"
     ]
    }
   ],
   "source": [
    "for sample in Iteration.from_dataset(\n",
    "    dataset_id=dataset.id,\n",
    "    shardsets=[shardset.id],\n",
    "    collater=(\"pylist\", {}),\n",
    "    batch_size=10,\n",
    "):\n",
    "    print(sample)"
   ]
  },
  {
   "cell_type": "markdown",
   "metadata": {},
   "source": [
    "### Remote Preprocessor\n",
    "\n",
    "To preprocess the samples remotely, define a preprocessor class that inherits from `Preprocessor`. It takes a collated batch as an argument and returns a preprocessed batch."
   ]
  },
  {
   "cell_type": "code",
   "execution_count": 26,
   "metadata": {},
   "outputs": [],
   "source": [
    "from lavender_data.server import Preprocessor\n",
    "\n",
    "class AppendNewColumn(Preprocessor, name=\"append_new_column\"):\n",
    "    def process(self, batch: dict) -> dict:\n",
    "        batch[\"new_column\"] = []\n",
    "        for uid in batch[\"uid\"]:\n",
    "            batch[\"new_column\"].append(f\"{uid}_processed\")\n",
    "        return batch"
   ]
  },
  {
   "cell_type": "code",
   "execution_count": 27,
   "metadata": {},
   "outputs": [
    {
     "name": "stdout",
     "output_type": "stream",
     "text": [
      "{'text': ['Sample 0', 'Sample 1', 'Sample 2', 'Sample 3', 'Sample 4', 'Sample 5', 'Sample 6', 'Sample 7', 'Sample 8', 'Sample 9'], 'uid': [0, 1, 2, 3, 4, 5, 6, 7, 8, 9], 'new_column': ['0_processed', '1_processed', '2_processed', '3_processed', '4_processed', '5_processed', '6_processed', '7_processed', '8_processed', '9_processed'], '_lavender_data_indices': [0, 1, 2, 3, 4, 5, 6, 7, 8, 9], '_lavender_data_current': 10}\n",
      "{'text': ['Sample 10', 'Sample 11', 'Sample 12', 'Sample 13', 'Sample 14', 'Sample 15', 'Sample 16', 'Sample 17', 'Sample 18', 'Sample 19'], 'uid': [10, 11, 12, 13, 14, 15, 16, 17, 18, 19], 'new_column': ['10_processed', '11_processed', '12_processed', '13_processed', '14_processed', '15_processed', '16_processed', '17_processed', '18_processed', '19_processed'], '_lavender_data_indices': [10, 11, 12, 13, 14, 15, 16, 17, 18, 19], '_lavender_data_current': 20}\n",
      "{'text': ['Sample 20', 'Sample 21', 'Sample 22', 'Sample 23', 'Sample 24', 'Sample 25', 'Sample 26', 'Sample 27', 'Sample 28', 'Sample 29'], 'uid': [20, 21, 22, 23, 24, 25, 26, 27, 28, 29], 'new_column': ['20_processed', '21_processed', '22_processed', '23_processed', '24_processed', '25_processed', '26_processed', '27_processed', '28_processed', '29_processed'], '_lavender_data_indices': [20, 21, 22, 23, 24, 25, 26, 27, 28, 29], '_lavender_data_current': 30}\n",
      "{'text': ['Sample 30', 'Sample 31', 'Sample 32', 'Sample 33', 'Sample 34', 'Sample 35', 'Sample 36', 'Sample 37', 'Sample 38', 'Sample 39'], 'uid': [30, 31, 32, 33, 34, 35, 36, 37, 38, 39], 'new_column': ['30_processed', '31_processed', '32_processed', '33_processed', '34_processed', '35_processed', '36_processed', '37_processed', '38_processed', '39_processed'], '_lavender_data_indices': [30, 31, 32, 33, 34, 35, 36, 37, 38, 39], '_lavender_data_current': 40}\n",
      "{'text': ['Sample 40', 'Sample 41', 'Sample 42', 'Sample 43', 'Sample 44', 'Sample 45', 'Sample 46', 'Sample 47', 'Sample 48', 'Sample 49'], 'uid': [40, 41, 42, 43, 44, 45, 46, 47, 48, 49], 'new_column': ['40_processed', '41_processed', '42_processed', '43_processed', '44_processed', '45_processed', '46_processed', '47_processed', '48_processed', '49_processed'], '_lavender_data_indices': [40, 41, 42, 43, 44, 45, 46, 47, 48, 49], '_lavender_data_current': 50}\n",
      "{'text': ['Sample 50', 'Sample 51', 'Sample 52', 'Sample 53', 'Sample 54', 'Sample 55', 'Sample 56', 'Sample 57', 'Sample 58', 'Sample 59'], 'uid': [50, 51, 52, 53, 54, 55, 56, 57, 58, 59], 'new_column': ['50_processed', '51_processed', '52_processed', '53_processed', '54_processed', '55_processed', '56_processed', '57_processed', '58_processed', '59_processed'], '_lavender_data_indices': [50, 51, 52, 53, 54, 55, 56, 57, 58, 59], '_lavender_data_current': 60}\n",
      "{'text': ['Sample 60', 'Sample 61', 'Sample 62', 'Sample 63', 'Sample 64', 'Sample 65', 'Sample 66', 'Sample 67', 'Sample 68', 'Sample 69'], 'uid': [60, 61, 62, 63, 64, 65, 66, 67, 68, 69], 'new_column': ['60_processed', '61_processed', '62_processed', '63_processed', '64_processed', '65_processed', '66_processed', '67_processed', '68_processed', '69_processed'], '_lavender_data_indices': [60, 61, 62, 63, 64, 65, 66, 67, 68, 69], '_lavender_data_current': 70}\n",
      "{'text': ['Sample 70', 'Sample 71', 'Sample 72', 'Sample 73', 'Sample 74', 'Sample 75', 'Sample 76', 'Sample 77', 'Sample 78', 'Sample 79'], 'uid': [70, 71, 72, 73, 74, 75, 76, 77, 78, 79], 'new_column': ['70_processed', '71_processed', '72_processed', '73_processed', '74_processed', '75_processed', '76_processed', '77_processed', '78_processed', '79_processed'], '_lavender_data_indices': [70, 71, 72, 73, 74, 75, 76, 77, 78, 79], '_lavender_data_current': 80}\n",
      "{'text': ['Sample 80', 'Sample 81', 'Sample 82', 'Sample 83', 'Sample 84', 'Sample 85', 'Sample 86', 'Sample 87', 'Sample 88', 'Sample 89'], 'uid': [80, 81, 82, 83, 84, 85, 86, 87, 88, 89], 'new_column': ['80_processed', '81_processed', '82_processed', '83_processed', '84_processed', '85_processed', '86_processed', '87_processed', '88_processed', '89_processed'], '_lavender_data_indices': [80, 81, 82, 83, 84, 85, 86, 87, 88, 89], '_lavender_data_current': 90}\n",
      "{'text': ['Sample 90', 'Sample 91', 'Sample 92', 'Sample 93', 'Sample 94', 'Sample 95', 'Sample 96', 'Sample 97', 'Sample 98', 'Sample 99'], 'uid': [90, 91, 92, 93, 94, 95, 96, 97, 98, 99], 'new_column': ['90_processed', '91_processed', '92_processed', '93_processed', '94_processed', '95_processed', '96_processed', '97_processed', '98_processed', '99_processed'], '_lavender_data_indices': [90, 91, 92, 93, 94, 95, 96, 97, 98, 99], '_lavender_data_current': 100}\n"
     ]
    }
   ],
   "source": [
    "for sample in Iteration.from_dataset(\n",
    "    dataset_id=dataset.id,\n",
    "    shardsets=[shardset.id],\n",
    "    preprocessors=[(\"append_new_column\", {})],\n",
    "    batch_size=10,\n",
    "):\n",
    "    print(sample)"
   ]
  },
  {
   "cell_type": "markdown",
   "metadata": {},
   "source": [
    "## Clean up\n",
    "\n",
    "Clean up the server process."
   ]
  },
  {
   "cell_type": "code",
   "execution_count": 30,
   "metadata": {},
   "outputs": [
    {
     "data": {
      "text/plain": [
       "-15"
      ]
     },
     "execution_count": 30,
     "metadata": {},
     "output_type": "execute_result"
    }
   ],
   "source": [
    "server_process.terminate()\n",
    "server_process.wait()"
   ]
  }
 ],
 "metadata": {
  "kernelspec": {
   "display_name": ".venv",
   "language": "python",
   "name": "python3"
  },
  "language_info": {
   "codemirror_mode": {
    "name": "ipython",
    "version": 3
   },
   "file_extension": ".py",
   "mimetype": "text/x-python",
   "name": "python",
   "nbconvert_exporter": "python",
   "pygments_lexer": "ipython3",
   "version": "3.13.1"
  }
 },
 "nbformat": 4,
 "nbformat_minor": 2
}
